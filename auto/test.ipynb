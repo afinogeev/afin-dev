{
 "cells": [
  {
   "cell_type": "code",
   "execution_count": 1,
   "metadata": {},
   "outputs": [],
   "source": [
    "from afin.instrument import Instrument\n",
    "import afin.params as Params\n",
    "\n",
    "clk5351 = Instrument('afin-clk5351')\n",
    "if clk5351.isConnected:\n",
    "    params = Params.clk5351\n",
    "    params['output'] = 1\n",
    "    i = 1\n",
    "    cnt = 1000\n",
    "    while cnt:\n",
    "        params['freq'] = 1000000*i\n",
    "        clk5351.set(params)\n",
    "        i += 1\n",
    "        if i > 25:\n",
    "            i = 1\n",
    "        cnt -= 1\n",
    "    "
   ]
  }
 ],
 "metadata": {
  "kernelspec": {
   "display_name": ".venv",
   "language": "python",
   "name": "python3"
  },
  "language_info": {
   "codemirror_mode": {
    "name": "ipython",
    "version": 3
   },
   "file_extension": ".py",
   "mimetype": "text/x-python",
   "name": "python",
   "nbconvert_exporter": "python",
   "pygments_lexer": "ipython3",
   "version": "3.11.3"
  },
  "orig_nbformat": 4
 },
 "nbformat": 4,
 "nbformat_minor": 2
}
